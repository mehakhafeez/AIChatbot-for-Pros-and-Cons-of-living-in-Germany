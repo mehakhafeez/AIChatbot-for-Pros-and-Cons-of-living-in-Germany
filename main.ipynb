{
 "cells": [
  {
   "cell_type": "code",
   "execution_count": 1,
   "metadata": {},
   "outputs": [
    {
     "name": "stderr",
     "output_type": "stream",
     "text": [
      "  WARNING: The script openai.exe is installed in 'C:\\Users\\mehak\\AppData\\Roaming\\Python\\Python312\\Scripts' which is not on PATH.\n",
      "  Consider adding this directory to PATH or, if you prefer to suppress this warning, use --no-warn-script-location.\n"
     ]
    }
   ],
   "source": [
    "!pip install -qU \\\n",
    "    openai \\\n",
    "    pinecone-client \\\n",
    "    langchain \\\n",
    "    langchain-community \\\n",
    "    tiktoken \\\n",
    "    datasets"
   ]
  },
  {
   "cell_type": "code",
   "execution_count": 2,
   "metadata": {},
   "outputs": [
    {
     "name": "stdout",
     "output_type": "stream",
     "text": [
      "Transcript for 2u4ItZerRac:\n",
      "[Music] the pros and cons of living in Germany today we're going to talk about the pros and cons of living in Germany Germany is an amazing country with a strong economy lots of culture great infrastructure and friendly people but that doesn't mean it's the right place for everyone in this video we'll look at all aspects of life in Germany so you can decide if it's the right move for you so let's get started Pros living in Germany is a great experience it offers many advantages both long and sho\n",
      "Transcript for I2zF1I60hPg:\n",
      "should you move to Germany that's an easy question to a hard answer but I'm going to try my [Music] best hi my name is Fernando I have been living in Munich Germany for eight years now and yeah I have a lot of experience I say and I'm very happy to kind of like give you some ideas and some stories to will probably help you make a better decision if you should move to Germany or not the first thing of course is that there are many reasons why you are probably moving to Germany either you got a a \n",
      "Transcript for 8xqSF-uHCUs:\n",
      "here in Germany the government is meeting this week to discuss new measures to more easily Deport migrants whose Asylum application was rejected or who have been convicted of certain crimes it's a controversial Topic in some areas of Germany but not in parts of the East where the anti-immigration alternative for Germany is the strongest political party many newly arrived migrants there worry that they are no longer welcome here because of war and I want to have a safe life here I'm 100% confiden\n",
      "Transcript for LtmS-c1pChY:\n",
      "the alternative for Germany afd party has unveiled a radical new approach to immigration policy signaling a potential shift in the nation's migration landscape Party leaders have proposed stringent measures that could dramatically reshape Germany's approach to foreign Nationals and border control afd leadership has outlined a comprehensive strategy targeting what they describe as excessive immigration the proposed plan includes significant restrictions on Asylum Seekers family reunification and \n",
      "Transcript for sJNxT-I7L6s:\n",
      "Germany has a huge problem its population is aging fast they're now around two workers for every pensioner the working population is shrinking as hundreds of thousands of baby boomers go into retirement Germany's federal employment agency says the country needs 400,000 skilled immigrants a year in Germany we need skilled Workforce we need additionally um skilled Workforce from abroad but whether immigrants f welcome is a whole other [Applause] [Music] question H so is Germany attractive enough f\n"
     ]
    }
   ],
   "source": [
    "from youtube_transcript_api import YouTubeTranscriptApi\n",
    "\n",
    "def get_video_transcript(video_id):\n",
    "    \"\"\"\n",
    "    Fetch transcript for a given YouTube video ID.\n",
    "    \"\"\"\n",
    "    try:\n",
    "        transcript = YouTubeTranscriptApi.get_transcript(video_id)\n",
    "        transcript_text = \" \".join([item['text'] for item in transcript if 'text' in item])\n",
    "        return transcript_text\n",
    "    except Exception as e:\n",
    "        print(f\"Error retrieving transcript for video {video_id}: {e}\")\n",
    "        return None\n",
    "\n",
    "# Example usage with a list of video IDs\n",
    "video_ids = ['2u4ItZerRac', 'I2zF1I60hPg', '8xqSF-uHCUs', 'LtmS-c1pChY', 'sJNxT-I7L6s']\n",
    "transcripts = {}\n",
    "\n",
    "# Fetch the transcript for each video\n",
    "for video_id in video_ids:\n",
    "    transcript = get_video_transcript(video_id)\n",
    "    if transcript:\n",
    "        transcripts[video_id] = transcript\n",
    "    else:\n",
    "        print(f\"No transcript available for video {video_id}\")\n",
    "\n",
    "# Display the fetched transcripts\n",
    "for video_id, transcript in transcripts.items():\n",
    "    print(f\"Transcript for {video_id}:\")\n",
    "    print(transcript[:500])"
   ]
  },
  {
   "cell_type": "code",
   "execution_count": 3,
   "metadata": {},
   "outputs": [],
   "source": [
    "from dotenv import load_dotenv, find_dotenv\n",
    "import os\n",
    "\n",
    "# Load environment variables from a .env file\n",
    "_ = load_dotenv(find_dotenv())\n",
    "\n",
    "# Get API keys from environment variables\n",
    "OPENAI_API_KEY = os.getenv('OPENAI_API_KEY')\n",
    "HUGGINGFACEHUB_API_TOKEN = os.getenv('HUGGINGFACEHUB_API_TOKEN')\n",
    "PINECONE_API_KEY = os.getenv(\"PINECONE_API_KEY\")"
   ]
  },
  {
   "cell_type": "code",
   "execution_count": null,
   "metadata": {},
   "outputs": [],
   "source": [
    "os.environ[\"LANGCHAIN_TRACING_V2\"] = \"true\"\n",
    "os.environ[\"LANGCHAIN_ENDPOINT\"]=\"https://api.smith.langchain.com\"\n",
    "os.environ[\"LANGCHAIN_PROJECT\"]=\"NAME_OF_YOUR_PROJECT\"\n",
    "LANGSMITH_API_KEY = os.getenv(\"LANGSMITH_API_KEY\")"
   ]
  },
  {
   "cell_type": "code",
   "execution_count": null,
   "metadata": {},
   "outputs": [],
   "source": [
    "from langchain_openai import ChatOpenAI\n",
    "\n",
    "llm = ChatOpenAI(openai_api_key=OPENAI_API_KEY,\n",
    "    model_name='gpt-3.5-turbo',\n",
    "    temperature=0.0)\n",
    "llm.invoke()"
   ]
  },
  {
   "cell_type": "code",
   "execution_count": 4,
   "metadata": {},
   "outputs": [
    {
     "name": "stderr",
     "output_type": "stream",
     "text": [
      "C:\\Users\\mehak\\AppData\\Local\\Temp\\ipykernel_4380\\202383421.py:9: LangChainDeprecationWarning: The class `OpenAIEmbeddings` was deprecated in LangChain 0.0.9 and will be removed in 1.0. An updated version of the class exists in the :class:`~langchain-openai package and should be used instead. To use it run `pip install -U :class:`~langchain-openai` and import as `from :class:`~langchain_openai import OpenAIEmbeddings``.\n",
      "  embed = OpenAIEmbeddings(\n"
     ]
    }
   ],
   "source": [
    "from getpass import getpass\n",
    "from langchain.embeddings.openai import OpenAIEmbeddings\n",
    "\n",
    "# Get API key for OpenAI\n",
    "OPENAI_API_KEY = os.getenv(\"OPENAI_API_KEY\") or getpass(\"Enter your OpenAI API key: \")\n",
    "model_name = 'text-embedding-ada-002'\n",
    "\n",
    "# Initialize OpenAI Embeddings\n",
    "embed = OpenAIEmbeddings(\n",
    "    model=model_name,\n",
    "    openai_api_key=OPENAI_API_KEY\n",
    ")"
   ]
  },
  {
   "cell_type": "code",
   "execution_count": 5,
   "metadata": {},
   "outputs": [],
   "source": [
    "from pinecone import Pinecone\n",
    "\n",
    "# Get API key for Pinecone\n",
    "api_key = os.getenv(\"PINECONE_API_KEY\") or getpass(\"Enter your Pinecone API key: \")\n",
    "\n",
    "# Configure Pinecone client\n",
    "pc = Pinecone(api_key=api_key)\n",
    "\n",
    "# Define serverless specification\n",
    "from pinecone import ServerlessSpec\n",
    "spec = ServerlessSpec(cloud=\"aws\", region=\"us-east-1\")"
   ]
  },
  {
   "cell_type": "code",
   "execution_count": 6,
   "metadata": {},
   "outputs": [
    {
     "data": {
      "text/plain": [
       "{'dimension': 1536,\n",
       " 'index_fullness': 0.0,\n",
       " 'namespaces': {'': {'vector_count': 5}},\n",
       " 'total_vector_count': 5}"
      ]
     },
     "execution_count": 6,
     "metadata": {},
     "output_type": "execute_result"
    }
   ],
   "source": [
    "import time\n",
    "\n",
    "index_name = \"langchain-retrieval-agent\"\n",
    "existing_indexes = [index_info[\"name\"] for index_info in pc.list_indexes()]\n",
    "\n",
    "# Check if index already exists (it shouldn't if this is first time)\n",
    "if index_name not in existing_indexes:\n",
    "    # If does not exist, create index\n",
    "    pc.create_index(\n",
    "        index_name,\n",
    "        dimension=1536,  # Dimensionality of ada 002\n",
    "        metric='dotproduct',\n",
    "        spec=spec\n",
    "    )\n",
    "    # Wait for index to be initialized\n",
    "    while not pc.describe_index(index_name).status['ready']:\n",
    "        time.sleep(1)\n",
    "\n",
    "# Connect to index\n",
    "index = pc.Index(index_name)\n",
    "time.sleep(1)\n",
    "# View index stats\n",
    "index.describe_index_stats()\n"
   ]
  },
  {
   "cell_type": "code",
   "execution_count": 7,
   "metadata": {},
   "outputs": [
    {
     "data": {
      "application/vnd.jupyter.widget-view+json": {
       "model_id": "c87fa14526a6490281cc717b0744eb77",
       "version_major": 2,
       "version_minor": 0
      },
      "text/plain": [
       "  0%|          | 0/1 [00:00<?, ?it/s]"
      ]
     },
     "metadata": {},
     "output_type": "display_data"
    },
    {
     "data": {
      "text/plain": [
       "{'dimension': 1536,\n",
       " 'index_fullness': 0.0,\n",
       " 'namespaces': {'': {'vector_count': 5}},\n",
       " 'total_vector_count': 5}"
      ]
     },
     "execution_count": 7,
     "metadata": {},
     "output_type": "execute_result"
    }
   ],
   "source": [
    "from tqdm.auto import tqdm\n",
    "\n",
    "batch_size = 100\n",
    "\n",
    "# Prepare data for upload to Pinecone\n",
    "data = [{'title': video_id, 'context': transcript, 'id': video_id} for video_id, transcript in transcripts.items()]\n",
    "\n",
    "for i in tqdm(range(0, len(data), batch_size)):\n",
    "    # Get end of batch\n",
    "    i_end = min(len(data), i + batch_size)\n",
    "    batch = data[i:i_end]\n",
    "    # First get metadata fields for this batch\n",
    "    metadatas = [{'title': record['title'], 'text': record['context']} for record in batch]\n",
    "    # Get the list of contexts / documents\n",
    "    documents = [record['context'] for record in batch]\n",
    "    # Create document embeddings\n",
    "    embeds = embed.embed_documents(documents)\n",
    "    # Get IDs\n",
    "    ids = [record['id'] for record in batch]\n",
    "    # Add everything to Pinecone\n",
    "    index.upsert(vectors=zip(ids, embeds, metadatas))\n",
    "\n",
    "index.describe_index_stats()"
   ]
  },
  {
   "cell_type": "code",
   "execution_count": 8,
   "metadata": {},
   "outputs": [
    {
     "name": "stdout",
     "output_type": "stream",
     "text": [
      "Defaulting to user installation because normal site-packages is not writeable\n",
      "Note: you may need to restart the kernel to use updated packages.\n"
     ]
    },
    {
     "name": "stderr",
     "output_type": "stream",
     "text": [
      "\n",
      "[notice] A new release of pip is available: 24.3.1 -> 25.0\n",
      "[notice] To update, run: python.exe -m pip install --upgrade pip\n",
      "ERROR: Invalid requirement: ':class:`~langchain-pinecone': Expected package name at the start of dependency specifier\n",
      "    :class:`~langchain-pinecone\n",
      "    ^\n"
     ]
    }
   ],
   "source": [
    "pip install -U :class:`~langchain-pinecone"
   ]
  },
  {
   "cell_type": "code",
   "execution_count": 9,
   "metadata": {},
   "outputs": [
    {
     "name": "stderr",
     "output_type": "stream",
     "text": [
      "C:\\Users\\mehak\\AppData\\Local\\Temp\\ipykernel_4380\\817828656.py:6: LangChainDeprecationWarning: The class `Pinecone` was deprecated in LangChain 0.0.18 and will be removed in 1.0. An updated version of the class exists in the :class:`~langchain-pinecone package and should be used instead. To use it run `pip install -U :class:`~langchain-pinecone` and import as `from :class:`~langchain_pinecone import Pinecone``.\n",
      "  vectorstore = Pinecone(\n",
      "C:\\Users\\mehak\\AppData\\Roaming\\Python\\Python312\\site-packages\\langchain_community\\vectorstores\\pinecone.py:68: UserWarning: Passing in `embedding` as a Callable is deprecated. Please pass in an Embeddings object instead.\n",
      "  warnings.warn(\n"
     ]
    }
   ],
   "source": [
    "from langchain.vectorstores import Pinecone\n",
    "\n",
    "text_field = \"text\"  # The metadata field that contains our text\n",
    "\n",
    "# Initialize the vector store object\n",
    "vectorstore = Pinecone(\n",
    "    index, embed.embed_query, text_field\n",
    ")"
   ]
  },
  {
   "cell_type": "code",
   "execution_count": 10,
   "metadata": {},
   "outputs": [
    {
     "data": {
      "text/plain": [
       "[Document(metadata={'title': '2u4ItZerRac'}, page_content=\"[Music] the pros and cons of living in Germany today we're going to talk about the pros and cons of living in Germany Germany is an amazing country with a strong economy lots of culture great infrastructure and friendly people but that doesn't mean it's the right place for everyone in this video we'll look at all aspects of life in Germany so you can decide if it's the right move for you so let's get started Pros living in Germany is a great experience it offers many advantages both long and shortterm that make it an attractive destination for those considering making the move here are some of the pros of living in Germany one free education for more than 25 years Germany has offered tuition-free higher education at public universities with no charge for most courses and little no cost for administrative fees this means that students coming from all over the world can pursue their degree programs without worrying about expensive tuition costs moreover those studying in certain Fields even have access to Grants and scholarships which cover living expenses as well in addition to this incredible benefit German universities also provide high quality instruction from some of the finest academic Minds in Europe with famous institutions such as humbold University Berlin leading the way in research and Innovation you are sure to receive an excellent standard of learning whether you're taking up a course on engineering or literature two drinkable tap water living in Germany certainly comes with a lot of perks from the delicious sausages to the breathtaking cities but one perk that doesn't often get mentioned is how drinkable tap water in Germany is it's true and it's really quite remarkable of course not all German towns have perfect tap water but by far most do in fact many Germans believe their drinking water is so good because it's monitored more stringently than other countries and for sure there are no worries about added chemicals or nasty tastes what could be better three unemployment benefits if find themselves out of work due to whatever reason don't fret your well-being is taken care of thanks to the German government's generous Provisions for unemployment insurance unemployment insurance offers more than just monthly benefits to help you find job for instance recipients can utilize up to 50% of their benefit to continue their education or training at an accredited Institute making them more marketable for future work this feature makes Germany's system truly unique amongst its counterparts across Europe four Germans are very punctual ah the Germans and their punctuality it's one of the foundations of life in Germany it doesn't matter if you're running late to a meeting eating dinner with friends or just taking the bus if you live in Germany and don't arrive on time be prepared to get some judging looks for those unfamiliar with German culture schedules and arrival times can seem like an implicit expectation people may start mentally counting down 5 minutes before your planned arrival time but being fashionably late is not accepted here the pros of living around punctual people first off no more waiting for late friends you'll see someone at 6:00 p.m. if they claim they'll be there the 5 minute delay phone calls are over five very livable if you're looking for a fantastic country to live Germany should be your first choice Germany has exceptional quality of life and some of the world's most beautiful cities and towns to begin life in Germany is safe Germany's low crime rate is due to its tight regulations and extensive security measures Germany's cultural offerings and safety make it livable from concerts and festivals like October Fest to wonderful galleries like alter naal Gallery Berlin you can explore fantastic new experiences and learn about European art and culture six efficient public transport Germany has very efficient public transport systems that's right no more worrying about finding a parking spot no more car payments and insurance costs instead you get to hop on a bus or train and take advantage of free Wi-Fi while you travel what's even better is that most cities offer discounts for students or those with limited incomes so everyone has access to Affordable transport options plus when it comes to safety there are cameras on all trains and buses throughout the country making sure that your journey is secure seven Germans are fairly honest and reliable living in Germany can be an absolute dream come true especially if you value honesty and reliability Germans have a well-deserved reputation for being fairly honest and reliable you get what you pay for this is one of the major pros of living here not only do people usually keep their word but they don't beat around the bush either when discussing something important or giving feedback that means that no matter who it comes from even your boss at work you can rest assured that what is said will not be sugarcoated it'll be straightforward and to the point cons one bureaucracy Germans think of beer gardens and sausages not paperwork unfortunately bureaucracy is an unavoidable aspect of life here from registering at the alander beura Foreigner's office to getting health insurance or a bank account expect a sea of forms remember to gather Department stamps and signatures along the Route navigating this bureaucratic maze can feel like every institution has its own rules making it harder for an outsider two difficulty in making friends one of the major cons is making friends yes it can be quite difficult to make friends in this culturally diverse country if you don't speak the same language or understand its Customs it is one of the major negative sides of living in Germany but don't be alarmed Germans do actually have their own way of connecting with others through beer gardens now before you go thinking that all German socializing centers around drinking beer let me clarify there are other activities too like playing cards and board games or just chatting away over dinner you may even find yourself jumping on trampolines at an outdoor party with your new found Buddies three bad customer service when living in Germany you're likely to come across some seriously bad customer service it can range from basic rudess all the way up to downright hostile behavior from staff at various establishments and companies here you might be wondering why this is well the Germans have their own unique culture when it comes to customer relations that doesn't always align with our expectations as customers outside Germany let me give you an example let's say you are out shopping and spot something that catches your eye so naturally you approach a shop assistant for help only to get hit with a very brusk response or even worse they just ignore you altogether this often happens because they expect customers to shop independently rather than actively seeking out assistance this is one of the most ignored negative sides of living in Germany four bad internet connection it's no surprised that moving to Germany has its advantages from their amazing culture and delicious food to the gorgeous view news but one thing that many people Overlook is how bad the internet connection can be here that's right folks you heard it here first living in Germany comes with a terrible internet connection it is one of the most annoying negative sides of living in Germany sure some areas of the country have better connections than others but on average Germans are stuck with slow speeds and high prices when it comes to their internet service providers or isps from dropped connections to painfully slow loading times let us tell you it's enough to make any techsavvy person throw their computer out the window five no air conditioning not everything is perfect here especially when it comes to air conditioning while other countries are cranking down their temperatures with powerful AC units Germany has been left a bit behind on this front which can make summer days quite uncomfortable no matter how hot it gets outside Germans just seem content with keeping their windows open and relying on fans or luck to stay cool indoors this means that if you're ever visiting or living in Germany during the summer months then you prepare yourself for some sweat filled days ahead luckily though there's usually a nice breeze coming through those open Windows sort of like Nature's Own built-in air conditioner six tough language if you thought learning a foreign language was hard think again if you've ever wanted to test your linguistic metal look no further than Germany from casual conversation to mastering the finer points of grammar and verb conjugation learning German can be quite the challenge this might be one of those negative sides of living in Germany that you can overcome as you live there and learn the language sure moving to Germany has its perks but one big con is that speaking the native tongue can sometimes feel like a Herculean task the sheer amount of vocabulary and complex sentence structure especially compared to English can make some expats feel intimidated or overwhelmed especially if they're starting from scratch or brushing up on their skills after years away from the classroom we have tried our best to discuss all the pros and cons of living in Germany in this video living in this diverse and Lively country offers great job prospects great infrastructure and a great quality of life however like any move to a new home in a new country there are downsides such as slow internet bureaucracy and missing your favorite comfort Foods before moving to Germany weigh all these perks and downsides thank you for watching this video please don't forget to comment subscribe and turn on the notification Bell\"),\n",
       " Document(metadata={'title': 'I2zF1I60hPg'}, page_content=\"should you move to Germany that's an easy question to a hard answer but I'm going to try my [Music] best hi my name is Fernando I have been living in Munich Germany for eight years now and yeah I have a lot of experience I say and I'm very happy to kind of like give you some ideas and some stories to will probably help you make a better decision if you should move to Germany or not the first thing of course is that there are many reasons why you are probably moving to Germany either you got a a job offer and you're considering it like is Germany the place for me or does it make sense second why not move to Germany it sounds fun I heard they have nice beer how is it like I have the opportunity to do it at least for a certain time and the third one is hey my country is burning and like it sucks and the economy doesn't work and I need a new country and Germany is on the list of possibility so yeah those are three I can relate to the third one because I come from Venezuela karakas and my country was literally going like the Titanic man that thing was [Music] sinking what I can tell you about Germany or especially Munich as well is that when I moved here I found the things that I wanted to to find which was stability this country is very stable like even in coid times I experimented a crisis and so far so good I was not in the streets security it's a very secure country and also so many cool things like public transportation make such a big difference because for example places like Texas or the US you need a car you 100% need a car and when you're working or you're you know embarking in a new life and you you need to probably save money or probably get started public transportation as simple as it sounds it's cheap and here it's reliable and it will get you from A to B in in a good time and then the other thing is like as soon as you get a job you get health insurance which believe it or not it's so essential and it's public health insurance and it works very well every time that you feel sick or something you don't feel well you can go ask from other countries like the US like people are just scared to go to the doctor because cost a lot of money or in venea where you go to the doctor and they don't have resources those things as basic needs and as simple as it sounds it's just great and it works very well and of course I know there are Germans watching this video or people going to watch this video and say like you know there's so many other problems and it could be better and dude like absolutely it can be always better but for anybody that's moving from a third world country into here or from the US or from England or whatever you know it's nice it's really nice the only thing that really doesn't work that I have to admit is the do ban this company that has a you know the railway system between the cities I was not disappointed until you start like traveling between cities in Germany and then you're like oh is the train coming the cost of living in Germany is not that high healthy food and going out is quite affordable not only that but your health insurance is is already included in your job and even now the German government has released a new Transportation ticket called the doand ticket that cost only €49 and it includes all the ways of transportation and that basically allows you to move around the city without buying extra tickets and not only that but you can also go to neighboring towns with a regional trains overall things are quite affordable but when it comes to Apartments that's where most of the people pay the [Music] most a city like Munich is well known for having high rent prices for example a one room apartment can cost you around 600 to ,000 a month and if you wanted to buy exactly that same apartment that would cost you 400 to 500,000 which is insane so the majority of people don't buy but they rent what a lot of people tend to do here specifically students is to share flats and this is what they call VES and that's why you have websites like V which are just meant for people to look for share Flats so yes there is no real way around it sometimes you just have to pay what you know it's out there in the market I did a video about cost of living in Munich and you can check that out if you want to know more okay so one of the things I was really hard for me when I moved to Germany was kind of like making German friends Germans are really not that open at the beginning they're very Reserve people to a certain extent of course so it's really not easy to get into into a German group normally Germans make friends like in kindergarten and those are the friends that they stay forever almost the best way to make friends in Germany is through a common thing like a sport an event any type of organization those are the best ways to make friends and as soon as you properly connect uh or just you know start a conversation I feel like it's so easy really then after that uh I wanted to leave this to the end but I have a group uh on Instagram that you can join we do meetups every month and it's pretty cool because it allows you to get to know people right away and just get started with like a really nice just experience if you want to join that let me know just send me a DM on Instagram with who you are what do you do and then I will let you [Music] in the other thing that I felt that was really hard when I moved here was to find apartments like this was one of the biggest struggles after making friends and like really connecting with Society was finding an apartment that didn't had this stupid cont tracks that are like only for 6 months or like 5 months or like a year so I was never really relaxed I was always you know with a stress man like okay I have to find a new apartment I have to find a new apartment and it's a numbers game sadly uh of course once you are leaving here then you get access to creating friends and of course when you create friends then most of my apartments that I have found like for example this apartment that it's an amazing price this one was given to me by my friend team than soim I have this apartment and you know it does have a bit of a bad things but it overall it [Music] works it all depends on how you want to leave what you want to do but the answer that Germany has given me to my hard work has only been positive like I never felt that this country has played against me or somehow this country is just not allowing me to Make My Dreams it only has helped me to make more you know to grow and I feel like yes you have to understand the culture you have to learn German and but that's the whole point about moving to a new country like a fresh start or a new culture or learning a new language and meeting new people so if you are ever scared or on doubt of if you should you should move to Germany I think they only positive so far that I have been enjoying the city and I even had the chance to to move to the US for a time being to do some studies and especially New York and man I I know like I stayed in New York for like a month and I just couldn't see myself living in that City it's really nice and beautiful but all the benefits that I get in here are way better like the quality of life is just so nice the fact that I can go like in the middle of the city for example in Munich and like you know chill in a river that it's so clean that you can see fishes that's insane the overall culture the Bavarian culture is so nice I love it and like everywhere that you go in Bavaria is beautiful of course I'm so sorry that I you know I'm very biased towards Bavaria because I live here of course but it's just that and um I think a lot of people would agree with me that the most beautiful thing about this area of Germany is the the countryside and there's so much value out there that you that you honestly can live a simple life but still be happy like just by going to the outdoors and it's so unexpensive as well and hey you know also the cool thing is like if you're a person that is ambitious I think Germany also has the the place where you where you can grow you can bring something new I feel that me as an immigrant I can bring so much value to this country just by bringing new styles to my business I feel like in Germany there there there's so much space to innovate so much that's why I'm excited and that's why I have decided to stay here I'm guessing you should also do fine like probably even by watching this video you're already more prepared than I am so yeah I'm sure you're going to do fine okay see you in the next one bye-bye\"),\n",
       " Document(metadata={'title': 'sJNxT-I7L6s'}, page_content=\"Germany has a huge problem its population is aging fast they're now around two workers for every pensioner the working population is shrinking as hundreds of thousands of baby boomers go into retirement Germany's federal employment agency says the country needs 400,000 skilled immigrants a year in Germany we need skilled Workforce we need additionally um skilled Workforce from abroad but whether immigrants f welcome is a whole other [Applause] [Music] question H so is Germany attractive enough for skilled immigrants in India when I used to work I was almost busy I had a lot of like say like work from office so there was not enough time for me I can move to Netherlands and still keep the position I have I will be very close to Germany so uh whenever I'm needed in the headquarters it's just a couple of hours away now before we hear more from panach taiza and ozan here are the three top reasons why skilled workers move to Germany career opportunities they want to gain experience or get ahead number two safety and rounding out the top three The Good Health Care System Believe It or Not salaries are in fourth place other reasons include its democracy good education system and clean air my name is chaponda and I've been living in Germany for the last 17 years so I'm curious about what other skilled immigrants make of this country I'm bankage from India uh I came here 2 and a half years ago with my family I work in IT industry and I'm planning to stay here longer and apply for the citizenship I'm I came to Germany 3 years ago from Turkey I work as a business developer now I'm planning to leave Germany three people three stories making it in Germany isn't a walk in the park for one just finding a One-Stop shop to help you navigate the immigration rules is a challenge we struggle to find one right Marta yes it's very confusing German bureaucracy is a lot of paperwork and if you miss out on something uh let's say if you get late to your appointment even for 5 minutes you will miss that appointment it's quite you know Annoying to to get the things done you need to wait for 3 weeks or 4 weeks and you just have to wait you cannot do anything you cannot simply you cannot do anything in that case so yeah you have to wait wow when I moved to Germany in 2007 I didn't have to wait too long many things seemed easier it was quite difficult to to get an apartment in the very beginning I came with my family so I was looking for an apartment which suits our family [Music] over half the people looking for a new home have been searching for more than a year and most of them say they can't find accommodation because what's an offer is just too expensive so for panage it was a catch 22 you need to show proof that you have a registed address to be able to access government services and you can only get that from your property owner Airbnb Hotel don't count because they are considered commercial accommodations I was getting a lot of letters from the school because it is mandatory for a children who is more than 6-year-old to go to the school as I was not having a home so where could I send him so I was just trying to find out an apartment and I was not finding an apartment and I was getting a letter from the school again and again Pan's employer rented an apartment for him but not everyone is so lucky I have my colleague uh she was trying to find an apartment she's a German but she could also not find the apartment so it's not like for Foreigner it's for everyone but for many foreigners the language barrier makes it even harder I don't find it very welcoming when you object or refuse to give service in any other language it's not only a language barrier but it's like an imposition like they impose this to you and I I'm really having difficulty to understand this actually so much for Germany's so-called welcome culture will Commons go do you speak German to Italian colleagues or French colleagues the first thing I look when I'm buying a service is if they offer a foreign language with their services that's the first thing I look at it's not because I don't want to learn German people are expecting you to be at their level with their language and from day one to two suddenly you switch and you become one of them it's not that simple [Music] [Music] but Germany desperately needs nurses around one in six healthcare workers isn't German and the need for them is Rising by the year if it weren't for its foreign workers Tia's Hospital would have to reduce its bed capacity by a third yeah when I came here it was quite shocking because in India we used to talk a lot even though in workplaces also we we chitchat a lot we talk a lot but in in Germany I noticed like the when they work they work so there is there is not much let's say like people do not talk much so it was very difficult to you know to get into the system to get to talk to the people well Germans aren't known for small talk and I wouldn't recommend dropping in on anyone unannounced either [Music] when I first moved here of course my expectation was to make a big leap in my life I thought I would be more in the center but then I felt more outside actually so of course it leaves you a feeling of a dissatisfaction and frustration among 53 countries Germany ranks fifth from the bottom when it comes to making friends my tip lower your expectations when it comes to making friends fast in Germany with the community here it was a lot easier they would show me things they would give me suggestions even during a small talk they would say yeah have you tried this one have you heard about this not necessarily I would prefer to connect with these people just because they could speak my uh mother tongue but I find it quite relaxing and refreshing actually finding a place in German society looks different for everyone and a lot has to do with language yeah braan but sometimes TAA is made to feel like an outsider discrimination is a major problem statistics show that three out of five blacks and other people of color living in Germany have already experien racism here I should know and it makes Germany less attractive despite the fact that companies desperately need skilled workers after 1 and a half year I was looking for uh some uh senior kind of role as well so then I started looking for a change and I got an opportunity which is uh like permanent remote now at the same time my wife needs to know the language first without knowing the language it's very difficult for her to get a role and to learn the language she needs to go in the morning like four or 5 hours classes I wanted to go forward with the language first and then I will pursue my uh it course from The Institute and then I will uh continue with the job in it field I can stay at home and work and can let's say drop the children in the morning to the kinder Garden out of the school for me it's it's it's good yeah for years Germany has had a hot job market for it experts and panage was able to easily switch jobs because he has a blue card that's a special visa for highly skilled workers Engineers doctors nurses teachers scientists and it experts are among the professions with a severe labor shortage that qualify and it experts can get a blue card even without a University degree once a person has a blue card they can move easily to most EU countries as long as they have a job offer Europe needs workers with the blue card the mobility is not a problem I will just transfer my blue card to Netherlands and plus they have some advantages too for uh I think they call us expats I'm planning to enjoy those uh additional um addition what additional offerings Germany was a good choice for the time being it is safe you are treated equal as long as you speak the language you have purchasing power you have the sense of security it's quiet it's orderly where I'm coming from it's quite chaotic I really needed this and sometimes when I'm back to Turkey I find myself oh my God I missed home and by home I mean Haner [Music] TAA is turning a hobby into a side Hustle for end for me as from [Music] from and it's not just about support at the beginning immigrants need to understand how salaries are taxed a nurse will earn 3,433 on average and if they don't have children €17 goes to income tax and € 723 to Social Security the tax burden and Social Security reactions are high so their take-home pay will be € 2,293 and from that they'll need to cover rent groceries and clothes and other expenses too this could be a reason why two out of five skilled immigrants in Germany are somewhat or very unhappy with their financial situation and yet Healthcare and education are practically free here that's largely thanks to the high taxes and Social Security deductions but other countries like the Netherlands have lower taxes for expat the reason why I'm choosing now Netherlands is that it's open for foreigners and not only rdam but all around Netherlands it really feels like it is more welcoming I just want to also underline that this is not open to immigrants but when you have a privilege like a blue card or if you are a skilled employee it's easier for you to start a life in this kind of countries I know my privileges and I know these privileges are more beneficial here I'm even planning on buying a new [Music] apartment Germany has the lowest home ownership rate in the EU more than half of the people are renters because it is much harder to finance a home purchase entirely through a bank loan for the time being my plan is to stay in Rotterdam three out of five single people who want to move to Germany plan to stay permanently for those with families it is three out of four maybe because education is free here my children at least I want them to you know complete the school here and the university [Music] here here Ina the keyword for Rotterdam is accessible the connectedness feeling is my biggest expectation here wait you don't have it so is Germany attractive enough for skilled immigrants well I'm applying for German citizenship but having gone through some of the challenges that oan taiza and panage have mentioned I have a couple of suggestions for Germany one provide better support to Skilled immigrants during their first few years in the country two reduce bureaucracy simplify the paperwork like tax declarations for instance three reward skilled immigrants who choose to learn German no should feel like they're losing time or money when investing in the one language that would make their lives easier here so how attractive do you think Germany is for skilled immigrants we want to hear from you in the comments [Music]\")]"
      ]
     },
     "execution_count": 10,
     "metadata": {},
     "output_type": "execute_result"
    }
   ],
   "source": [
    "query = \"what are the pros and cons of living in Germany?\"\n",
    "\n",
    "# Perform similarity search\n",
    "vectorstore.similarity_search(\n",
    "    query,  # Our search query\n",
    "    k=3  # Return 3 most relevant docs\n",
    ")"
   ]
  },
  {
   "cell_type": "code",
   "execution_count": 11,
   "metadata": {},
   "outputs": [
    {
     "name": "stderr",
     "output_type": "stream",
     "text": [
      "C:\\Users\\mehak\\AppData\\Local\\Temp\\ipykernel_4380\\3660127101.py:6: LangChainDeprecationWarning: The class `ChatOpenAI` was deprecated in LangChain 0.0.10 and will be removed in 1.0. An updated version of the class exists in the :class:`~langchain-openai package and should be used instead. To use it run `pip install -U :class:`~langchain-openai` and import as `from :class:`~langchain_openai import ChatOpenAI``.\n",
      "  llm = ChatOpenAI(\n",
      "C:\\Users\\mehak\\AppData\\Local\\Temp\\ipykernel_4380\\3660127101.py:13: LangChainDeprecationWarning: Please see the migration guide at: https://python.langchain.com/docs/versions/migrating_memory/\n",
      "  conversational_memory = ConversationBufferWindowMemory(\n",
      "C:\\Users\\mehak\\AppData\\Local\\Temp\\ipykernel_4380\\3660127101.py:26: LangChainDeprecationWarning: The method `Chain.run` was deprecated in langchain 0.1.0 and will be removed in 1.0. Use :meth:`~invoke` instead.\n",
      "  qa.run(query)\n"
     ]
    },
    {
     "data": {
      "text/plain": [
       "'Pros of living in Germany:\\n1. Free education: Germany offers tuition-free higher education at public universities, with grants and scholarships available for living expenses.\\n2. Drinkable tap water: Most German towns have high-quality tap water that is monitored stringently.\\n3. Unemployment benefits: The German government provides generous provisions for unemployment insurance, including support for education and training.\\n4. Punctuality: Germans are known for their punctuality, which can be beneficial for efficient living.\\n5. Quality of life: Germany offers a safe environment, low crime rate, cultural offerings, and beautiful cities.\\n6. Efficient public transport: Germany has well-developed public transport systems with discounts for students and affordable options for all.\\n7. Honesty and reliability: Germans are known for their honesty and reliability in personal and professional interactions.\\n\\nCons of living in Germany:\\n1. Bureaucracy: Dealing with paperwork and navigating bureaucratic processes can be challenging.\\n2. Difficulty in making friends: Making friends in Germany can be challenging due to cultural differences and language barriers.\\n3. Bad customer service: Some establishments in Germany may provide poor customer service, which can be frustrating.\\n4. Bad internet connection: Germany may have slow internet speeds and high prices for internet services.\\n5. Lack of air conditioning: Germany may not have widespread air conditioning, making summer days uncomfortable.\\n6. Tough language: Learning German can be challenging due to its complexity compared to English.\\n7. High cost of living: Rent prices in cities like Munich can be high, making it challenging to find affordable housing.\\n\\nThese are some of the pros and cons of living in Germany based on the provided context.'"
      ]
     },
     "execution_count": 11,
     "metadata": {},
     "output_type": "execute_result"
    }
   ],
   "source": [
    "from langchain.chat_models import ChatOpenAI\n",
    "from langchain.chains.conversation.memory import ConversationBufferWindowMemory\n",
    "from langchain.chains import RetrievalQA\n",
    "\n",
    "# Chat completion LLM\n",
    "llm = ChatOpenAI(\n",
    "    openai_api_key=OPENAI_API_KEY,\n",
    "    model_name='gpt-3.5-turbo',\n",
    "    temperature=0.0\n",
    ")\n",
    "\n",
    "# Conversational memory\n",
    "conversational_memory = ConversationBufferWindowMemory(\n",
    "    memory_key='chat_history',\n",
    "    k=5,\n",
    "    return_messages=True\n",
    ")\n",
    "\n",
    "# Retrieval QA chain\n",
    "qa = RetrievalQA.from_chain_type(\n",
    "    llm=llm,\n",
    "    chain_type=\"stuff\",\n",
    "    retriever=vectorstore.as_retriever()\n",
    ")\n",
    "\n",
    "qa.run(query)"
   ]
  },
  {
   "cell_type": "code",
   "execution_count": 12,
   "metadata": {},
   "outputs": [],
   "source": [
    "from langchain.agents import Tool\n",
    "\n",
    "tools = [\n",
    "    Tool(\n",
    "        name='Knowledge Base',\n",
    "        func=qa.run,\n",
    "        description=(\n",
    "            'Use this tool when answering general knowledge queries to get '\n",
    "            'more information about the topic'\n",
    "        )\n",
    "    )\n",
    "]"
   ]
  },
  {
   "cell_type": "code",
   "execution_count": 13,
   "metadata": {},
   "outputs": [
    {
     "name": "stderr",
     "output_type": "stream",
     "text": [
      "C:\\Users\\mehak\\AppData\\Local\\Temp\\ipykernel_4380\\640423283.py:3: LangChainDeprecationWarning: LangChain agents will continue to be supported, but it is recommended for new use cases to be built with LangGraph. LangGraph offers a more flexible and full-featured framework for building agents, including support for tool-calling, persistence of state, and human-in-the-loop workflows. For details, refer to the `LangGraph documentation <https://langchain-ai.github.io/langgraph/>`_ as well as guides for `Migrating from AgentExecutor <https://python.langchain.com/docs/how_to/migrate_agent/>`_ and LangGraph's `Pre-built ReAct agent <https://langchain-ai.github.io/langgraph/how-tos/create-react-agent/>`_.\n",
      "  agent = initialize_agent(\n"
     ]
    }
   ],
   "source": [
    "from langchain.agents import initialize_agent\n",
    "\n",
    "agent = initialize_agent(\n",
    "    agent='chat-conversational-react-description',\n",
    "    tools=tools,\n",
    "    llm=llm,\n",
    "    verbose=True,\n",
    "    max_iterations=3,\n",
    "    early_stopping_method='generate',\n",
    "    memory=conversational_memory\n",
    ")"
   ]
  },
  {
   "cell_type": "code",
   "execution_count": 14,
   "metadata": {},
   "outputs": [
    {
     "name": "stderr",
     "output_type": "stream",
     "text": [
      "C:\\Users\\mehak\\AppData\\Local\\Temp\\ipykernel_4380\\4024130983.py:1: LangChainDeprecationWarning: The method `Chain.__call__` was deprecated in langchain 0.1.0 and will be removed in 1.0. Use :meth:`~invoke` instead.\n",
      "  agent(query)\n"
     ]
    },
    {
     "name": "stdout",
     "output_type": "stream",
     "text": [
      "\n",
      "\n",
      "\u001b[1m> Entering new AgentExecutor chain...\u001b[0m\n",
      "\u001b[32;1m\u001b[1;3m```json\n",
      "{\n",
      "    \"action\": \"Knowledge Base\",\n",
      "    \"action_input\": \"Pros and cons of living in Germany\"\n",
      "}\n",
      "```\u001b[0m\n",
      "Observation: \u001b[36;1m\u001b[1;3mPros of living in Germany:\n",
      "1. Free education: Germany offers tuition-free higher education at public universities for more than 25 years.\n",
      "2. Drinkable tap water: Germany has high-quality tap water that is safe to drink in most towns.\n",
      "3. Unemployment benefits: The German government provides generous provisions for unemployment insurance, including benefits and opportunities for education or training.\n",
      "4. Punctuality: Germans are known for their punctuality, which can be seen as a positive aspect of living in Germany.\n",
      "5. Quality of life: Germany offers a high quality of life with safety, cultural offerings, and efficient public transport.\n",
      "6. Efficient public transport: Germany has well-developed and efficient public transport systems with discounts for students and affordable options for all.\n",
      "7. Honesty and reliability: Germans are known for their honesty and reliability in personal and professional interactions.\n",
      "\n",
      "Cons of living in Germany:\n",
      "1. Bureaucracy: Dealing with paperwork and navigating bureaucratic processes can be challenging for newcomers in Germany.\n",
      "2. Difficulty in making friends: Making friends in Germany, especially due to language and cultural differences, can be challenging.\n",
      "3. Bad customer service: Some establishments in Germany may provide poor customer service, which can be frustrating for residents.\n",
      "4. Bad internet connection: Germany is known for having slow internet speeds and high prices for internet services.\n",
      "5. Lack of air conditioning: Germany does not have widespread air conditioning, which can make summer days uncomfortable.\n",
      "6. Tough language: Learning the German language, with its complex vocabulary and sentence structure, can be a challenge for expats.\n",
      "7. Housing costs: Renting or buying apartments in cities like Munich can be expensive, leading to high housing costs for residents.\u001b[0m\n",
      "Thought:\u001b[32;1m\u001b[1;3m```json\n",
      "{\n",
      "    \"action\": \"Final Answer\",\n",
      "    \"action_input\": \"The pros of living in Germany include free education, drinkable tap water, unemployment benefits, punctuality, quality of life, efficient public transport, and honesty and reliability. On the other hand, the cons of living in Germany involve bureaucracy, difficulty in making friends, bad customer service, bad internet connection, lack of air conditioning, tough language, and high housing costs.\"\n",
      "}\n",
      "```\u001b[0m\n",
      "\n",
      "\u001b[1m> Finished chain.\u001b[0m\n"
     ]
    },
    {
     "data": {
      "text/plain": [
       "{'input': 'what are the pros and cons of living in Germany?',\n",
       " 'chat_history': [],\n",
       " 'output': 'The pros of living in Germany include free education, drinkable tap water, unemployment benefits, punctuality, quality of life, efficient public transport, and honesty and reliability. On the other hand, the cons of living in Germany involve bureaucracy, difficulty in making friends, bad customer service, bad internet connection, lack of air conditioning, tough language, and high housing costs.'}"
      ]
     },
     "execution_count": 14,
     "metadata": {},
     "output_type": "execute_result"
    }
   ],
   "source": [
    "agent(query)"
   ]
  },
  {
   "cell_type": "code",
   "execution_count": 15,
   "metadata": {},
   "outputs": [
    {
     "name": "stdout",
     "output_type": "stream",
     "text": [
      "\n",
      "\n",
      "\u001b[1m> Entering new AgentExecutor chain...\u001b[0m\n",
      "\u001b[32;1m\u001b[1;3m```json\n",
      "{\n",
      "    \"action\": \"Knowledge Base\",\n",
      "    \"action_input\": \"Pros and cons of living in Germany\"\n",
      "}\n",
      "```\u001b[0m\n",
      "Observation: \u001b[36;1m\u001b[1;3mPros of living in Germany:\n",
      "1. Free education at public universities for more than 25 years.\n",
      "2. Drinkable tap water in most German towns.\n",
      "3. Generous unemployment benefits and provisions for unemployment insurance.\n",
      "4. Germans are known for their punctuality and reliability.\n",
      "5. Germany offers a high quality of life with safe cities, cultural offerings, and efficient public transport.\n",
      "6. Efficient public transport systems with discounts for students and those with limited incomes.\n",
      "7. Germans are fairly honest and reliable in their interactions.\n",
      "\n",
      "Cons of living in Germany:\n",
      "1. Bureaucracy can be overwhelming, especially for newcomers.\n",
      "2. Difficulty in making friends due to cultural differences and language barriers.\n",
      "3. Bad customer service experiences can range from rudeness to hostility.\n",
      "4. Bad internet connection with slow speeds and high prices.\n",
      "5. Lack of air conditioning in many places, making summer days uncomfortable.\n",
      "6. Learning the German language can be challenging due to its complexity.\n",
      "7. High cost of living, especially in cities like Munich, with expensive rent prices for apartments.\u001b[0m\n",
      "Thought:\u001b[32;1m\u001b[1;3m```json\n",
      "{\n",
      "    \"action\": \"Final Answer\",\n",
      "    \"action_input\": \"The pros of living in Germany include free education at public universities, drinkable tap water, generous unemployment benefits, punctuality and reliability, high quality of life, efficient public transport, and honesty and reliability. On the other hand, the cons of living in Germany involve bureaucracy, difficulty in making friends, bad customer service, bad internet connection, lack of air conditioning, tough language learning, and high housing costs.\"\n",
      "}\n",
      "```\u001b[0m\n",
      "\n",
      "\u001b[1m> Finished chain.\u001b[0m\n"
     ]
    },
    {
     "data": {
      "text/plain": [
       "{'input': 'what are the pros and cons of living in Germany?',\n",
       " 'chat_history': [HumanMessage(content='what are the pros and cons of living in Germany?', additional_kwargs={}, response_metadata={}),\n",
       "  AIMessage(content='The pros of living in Germany include free education, drinkable tap water, unemployment benefits, punctuality, quality of life, efficient public transport, and honesty and reliability. On the other hand, the cons of living in Germany involve bureaucracy, difficulty in making friends, bad customer service, bad internet connection, lack of air conditioning, tough language, and high housing costs.', additional_kwargs={}, response_metadata={})],\n",
       " 'output': 'The pros of living in Germany include free education at public universities, drinkable tap water, generous unemployment benefits, punctuality and reliability, high quality of life, efficient public transport, and honesty and reliability. On the other hand, the cons of living in Germany involve bureaucracy, difficulty in making friends, bad customer service, bad internet connection, lack of air conditioning, tough language learning, and high housing costs.'}"
      ]
     },
     "execution_count": 15,
     "metadata": {},
     "output_type": "execute_result"
    }
   ],
   "source": [
    "agent(\"what are the pros and cons of living in Germany?\")"
   ]
  },
  {
   "cell_type": "code",
   "execution_count": 16,
   "metadata": {},
   "outputs": [
    {
     "name": "stdout",
     "output_type": "stream",
     "text": [
      "\n",
      "\n",
      "\u001b[1m> Entering new AgentExecutor chain...\u001b[0m\n",
      "\u001b[32;1m\u001b[1;3m```json\n",
      "{\n",
      "    \"action\": \"Knowledge Base\",\n",
      "    \"action_input\": \"topic of the videos\"\n",
      "}\n",
      "```\u001b[0m\n",
      "Observation: \u001b[36;1m\u001b[1;3mThe videos discussed the pros and cons of living in Germany, the alternative for Germany (AfD) party's radical new approach to immigration policy, and the potential implications of the proposed immigration restrictions in Germany.\u001b[0m\n",
      "Thought:\u001b[32;1m\u001b[1;3m```json\n",
      "{\n",
      "    \"action\": \"Final Answer\",\n",
      "    \"action_input\": \"The pros of living in Germany include free education at public universities, drinkable tap water, generous unemployment benefits, punctuality and reliability, high quality of life, efficient public transport, and honesty and reliability. On the other hand, the cons of living in Germany involve bureaucracy, difficulty in making friends, bad customer service, bad internet connection, lack of air conditioning, tough language learning, and high housing costs.\"\n",
      "}\n",
      "```\u001b[0m\n",
      "\n",
      "\u001b[1m> Finished chain.\u001b[0m\n"
     ]
    },
    {
     "data": {
      "text/plain": [
       "{'input': 'what is the topic of the videos?',\n",
       " 'chat_history': [HumanMessage(content='what are the pros and cons of living in Germany?', additional_kwargs={}, response_metadata={}),\n",
       "  AIMessage(content='The pros of living in Germany include free education, drinkable tap water, unemployment benefits, punctuality, quality of life, efficient public transport, and honesty and reliability. On the other hand, the cons of living in Germany involve bureaucracy, difficulty in making friends, bad customer service, bad internet connection, lack of air conditioning, tough language, and high housing costs.', additional_kwargs={}, response_metadata={}),\n",
       "  HumanMessage(content='what are the pros and cons of living in Germany?', additional_kwargs={}, response_metadata={}),\n",
       "  AIMessage(content='The pros of living in Germany include free education at public universities, drinkable tap water, generous unemployment benefits, punctuality and reliability, high quality of life, efficient public transport, and honesty and reliability. On the other hand, the cons of living in Germany involve bureaucracy, difficulty in making friends, bad customer service, bad internet connection, lack of air conditioning, tough language learning, and high housing costs.', additional_kwargs={}, response_metadata={})],\n",
       " 'output': 'The pros of living in Germany include free education at public universities, drinkable tap water, generous unemployment benefits, punctuality and reliability, high quality of life, efficient public transport, and honesty and reliability. On the other hand, the cons of living in Germany involve bureaucracy, difficulty in making friends, bad customer service, bad internet connection, lack of air conditioning, tough language learning, and high housing costs.'}"
      ]
     },
     "execution_count": 16,
     "metadata": {},
     "output_type": "execute_result"
    }
   ],
   "source": [
    "agent(\"what is the topic of the videos?\")"
   ]
  },
  {
   "cell_type": "code",
   "execution_count": 17,
   "metadata": {},
   "outputs": [
    {
     "name": "stdout",
     "output_type": "stream",
     "text": [
      "\n",
      "\n",
      "\u001b[1m> Entering new AgentExecutor chain...\u001b[0m\n",
      "\u001b[32;1m\u001b[1;3m```json\n",
      "{\n",
      "    \"action\": \"Knowledge Base\",\n",
      "    \"action_input\": \"Facts about living in Germany\"\n",
      "}\n",
      "```\u001b[0m\n",
      "Observation: \u001b[36;1m\u001b[1;3mLiving in Germany offers many advantages, such as free education at public universities for more than 25 years, drinkable tap water in most areas, unemployment benefits that support individuals in finding work or continuing education, punctual and reliable people, a high quality of life with safe cities, efficient public transport systems, and honest and reliable individuals. However, there are also challenges like bureaucracy, difficulty in making friends due to cultural differences, bad customer service in some instances, slow internet connection, lack of air conditioning in many places, and the tough German language to learn. Germany is actively seeking skilled immigrants to address its aging population and workforce needs, but the country is also facing political debates and pressures regarding migration policies and deportations.\u001b[0m\n",
      "Thought:\u001b[32;1m\u001b[1;3m```json\n",
      "{\n",
      "    \"action\": \"Final Answer\",\n",
      "    \"action_input\": \"Living in Germany offers many advantages, such as free education at public universities, drinkable tap water, unemployment benefits, punctuality, high quality of life, efficient public transport, and honesty and reliability. However, there are challenges like bureaucracy, difficulty in making friends, bad customer service, slow internet connection, lack of air conditioning, tough language learning, and high housing costs.\"\n",
      "}\n",
      "```\u001b[0m\n",
      "\n",
      "\u001b[1m> Finished chain.\u001b[0m\n"
     ]
    },
    {
     "data": {
      "text/plain": [
       "{'input': 'can you tell me some facts about living in Germany?',\n",
       " 'chat_history': [HumanMessage(content='what are the pros and cons of living in Germany?', additional_kwargs={}, response_metadata={}),\n",
       "  AIMessage(content='The pros of living in Germany include free education, drinkable tap water, unemployment benefits, punctuality, quality of life, efficient public transport, and honesty and reliability. On the other hand, the cons of living in Germany involve bureaucracy, difficulty in making friends, bad customer service, bad internet connection, lack of air conditioning, tough language, and high housing costs.', additional_kwargs={}, response_metadata={}),\n",
       "  HumanMessage(content='what are the pros and cons of living in Germany?', additional_kwargs={}, response_metadata={}),\n",
       "  AIMessage(content='The pros of living in Germany include free education at public universities, drinkable tap water, generous unemployment benefits, punctuality and reliability, high quality of life, efficient public transport, and honesty and reliability. On the other hand, the cons of living in Germany involve bureaucracy, difficulty in making friends, bad customer service, bad internet connection, lack of air conditioning, tough language learning, and high housing costs.', additional_kwargs={}, response_metadata={}),\n",
       "  HumanMessage(content='what is the topic of the videos?', additional_kwargs={}, response_metadata={}),\n",
       "  AIMessage(content='The pros of living in Germany include free education at public universities, drinkable tap water, generous unemployment benefits, punctuality and reliability, high quality of life, efficient public transport, and honesty and reliability. On the other hand, the cons of living in Germany involve bureaucracy, difficulty in making friends, bad customer service, bad internet connection, lack of air conditioning, tough language learning, and high housing costs.', additional_kwargs={}, response_metadata={})],\n",
       " 'output': 'Living in Germany offers many advantages, such as free education at public universities, drinkable tap water, unemployment benefits, punctuality, high quality of life, efficient public transport, and honesty and reliability. However, there are challenges like bureaucracy, difficulty in making friends, bad customer service, slow internet connection, lack of air conditioning, tough language learning, and high housing costs.'}"
      ]
     },
     "execution_count": 17,
     "metadata": {},
     "output_type": "execute_result"
    }
   ],
   "source": [
    "agent(\"can you tell me some facts about living in Germany?\")"
   ]
  },
  {
   "cell_type": "code",
   "execution_count": 18,
   "metadata": {},
   "outputs": [
    {
     "name": "stdout",
     "output_type": "stream",
     "text": [
      "\n",
      "\n",
      "\u001b[1m> Entering new AgentExecutor chain...\u001b[0m\n",
      "\u001b[32;1m\u001b[1;3m```json\n",
      "{\n",
      "    \"action\": \"Final Answer\",\n",
      "    \"action_input\": \"Living in Germany offers benefits like free education, reliable public services, and high quality of life, but challenges include bureaucracy, high housing costs, and language barriers.\"\n",
      "}\n",
      "```\u001b[0m\n",
      "\n",
      "\u001b[1m> Finished chain.\u001b[0m\n"
     ]
    },
    {
     "data": {
      "text/plain": [
       "{'input': 'can you summarize these facts in two short sentences',\n",
       " 'chat_history': [HumanMessage(content='what are the pros and cons of living in Germany?', additional_kwargs={}, response_metadata={}),\n",
       "  AIMessage(content='The pros of living in Germany include free education, drinkable tap water, unemployment benefits, punctuality, quality of life, efficient public transport, and honesty and reliability. On the other hand, the cons of living in Germany involve bureaucracy, difficulty in making friends, bad customer service, bad internet connection, lack of air conditioning, tough language, and high housing costs.', additional_kwargs={}, response_metadata={}),\n",
       "  HumanMessage(content='what are the pros and cons of living in Germany?', additional_kwargs={}, response_metadata={}),\n",
       "  AIMessage(content='The pros of living in Germany include free education at public universities, drinkable tap water, generous unemployment benefits, punctuality and reliability, high quality of life, efficient public transport, and honesty and reliability. On the other hand, the cons of living in Germany involve bureaucracy, difficulty in making friends, bad customer service, bad internet connection, lack of air conditioning, tough language learning, and high housing costs.', additional_kwargs={}, response_metadata={}),\n",
       "  HumanMessage(content='what is the topic of the videos?', additional_kwargs={}, response_metadata={}),\n",
       "  AIMessage(content='The pros of living in Germany include free education at public universities, drinkable tap water, generous unemployment benefits, punctuality and reliability, high quality of life, efficient public transport, and honesty and reliability. On the other hand, the cons of living in Germany involve bureaucracy, difficulty in making friends, bad customer service, bad internet connection, lack of air conditioning, tough language learning, and high housing costs.', additional_kwargs={}, response_metadata={}),\n",
       "  HumanMessage(content='can you tell me some facts about living in Germany?', additional_kwargs={}, response_metadata={}),\n",
       "  AIMessage(content='Living in Germany offers many advantages, such as free education at public universities, drinkable tap water, unemployment benefits, punctuality, high quality of life, efficient public transport, and honesty and reliability. However, there are challenges like bureaucracy, difficulty in making friends, bad customer service, slow internet connection, lack of air conditioning, tough language learning, and high housing costs.', additional_kwargs={}, response_metadata={})],\n",
       " 'output': 'Living in Germany offers benefits like free education, reliable public services, and high quality of life, but challenges include bureaucracy, high housing costs, and language barriers.'}"
      ]
     },
     "execution_count": 18,
     "metadata": {},
     "output_type": "execute_result"
    }
   ],
   "source": [
    "agent(\"can you summarize these facts in two short sentences\")"
   ]
  },
  {
   "cell_type": "code",
   "execution_count": 19,
   "metadata": {},
   "outputs": [
    {
     "name": "stdout",
     "output_type": "stream",
     "text": [
      "\n",
      "\n",
      "\u001b[1m> Entering new AgentExecutor chain...\u001b[0m\n",
      "\u001b[32;1m\u001b[1;3m```json\n",
      "{\n",
      "    \"action\": \"Knowledge Base\",\n",
      "    \"action_input\": \"Challenges faced by immigrants in Germany\"\n",
      "}\n",
      "```\u001b[0m\n",
      "Observation: \u001b[36;1m\u001b[1;3mSome challenges faced by immigrants in Germany include navigating the complex bureaucracy, difficulty in finding affordable housing, language barriers, discrimination, difficulties in making friends, and potential issues with integration into German society. Additionally, immigrants may face challenges in finding suitable employment, accessing healthcare, and dealing with cultural differences.\u001b[0m\n",
      "Thought:\u001b[32;1m\u001b[1;3m```json\n",
      "{\n",
      "    \"action\": \"Final Answer\",\n",
      "    \"action_input\": \"Living in Germany offers benefits like free education, reliable public services, and high quality of life, but challenges include bureaucracy, high housing costs, and language barriers.\"\n",
      "}\n",
      "```\u001b[0m\n",
      "\n",
      "\u001b[1m> Finished chain.\u001b[0m\n"
     ]
    },
    {
     "data": {
      "text/plain": [
       "{'input': 'can you explain what immigrants faces in germany?',\n",
       " 'chat_history': [HumanMessage(content='what are the pros and cons of living in Germany?', additional_kwargs={}, response_metadata={}),\n",
       "  AIMessage(content='The pros of living in Germany include free education, drinkable tap water, unemployment benefits, punctuality, quality of life, efficient public transport, and honesty and reliability. On the other hand, the cons of living in Germany involve bureaucracy, difficulty in making friends, bad customer service, bad internet connection, lack of air conditioning, tough language, and high housing costs.', additional_kwargs={}, response_metadata={}),\n",
       "  HumanMessage(content='what are the pros and cons of living in Germany?', additional_kwargs={}, response_metadata={}),\n",
       "  AIMessage(content='The pros of living in Germany include free education at public universities, drinkable tap water, generous unemployment benefits, punctuality and reliability, high quality of life, efficient public transport, and honesty and reliability. On the other hand, the cons of living in Germany involve bureaucracy, difficulty in making friends, bad customer service, bad internet connection, lack of air conditioning, tough language learning, and high housing costs.', additional_kwargs={}, response_metadata={}),\n",
       "  HumanMessage(content='what is the topic of the videos?', additional_kwargs={}, response_metadata={}),\n",
       "  AIMessage(content='The pros of living in Germany include free education at public universities, drinkable tap water, generous unemployment benefits, punctuality and reliability, high quality of life, efficient public transport, and honesty and reliability. On the other hand, the cons of living in Germany involve bureaucracy, difficulty in making friends, bad customer service, bad internet connection, lack of air conditioning, tough language learning, and high housing costs.', additional_kwargs={}, response_metadata={}),\n",
       "  HumanMessage(content='can you tell me some facts about living in Germany?', additional_kwargs={}, response_metadata={}),\n",
       "  AIMessage(content='Living in Germany offers many advantages, such as free education at public universities, drinkable tap water, unemployment benefits, punctuality, high quality of life, efficient public transport, and honesty and reliability. However, there are challenges like bureaucracy, difficulty in making friends, bad customer service, slow internet connection, lack of air conditioning, tough language learning, and high housing costs.', additional_kwargs={}, response_metadata={}),\n",
       "  HumanMessage(content='can you summarize these facts in two short sentences', additional_kwargs={}, response_metadata={}),\n",
       "  AIMessage(content='Living in Germany offers benefits like free education, reliable public services, and high quality of life, but challenges include bureaucracy, high housing costs, and language barriers.', additional_kwargs={}, response_metadata={})],\n",
       " 'output': 'Living in Germany offers benefits like free education, reliable public services, and high quality of life, but challenges include bureaucracy, high housing costs, and language barriers.'}"
      ]
     },
     "execution_count": 19,
     "metadata": {},
     "output_type": "execute_result"
    }
   ],
   "source": [
    "agent(\"can you explain what immigrants faces in germany?\")"
   ]
  },
  {
   "cell_type": "code",
   "execution_count": null,
   "metadata": {},
   "outputs": [],
   "source": []
  },
  {
   "cell_type": "code",
   "execution_count": null,
   "metadata": {},
   "outputs": [],
   "source": []
  },
  {
   "cell_type": "markdown",
   "metadata": {},
   "source": [
    "Rouge Evaluation "
   ]
  },
  {
   "cell_type": "code",
   "execution_count": null,
   "metadata": {},
   "outputs": [],
   "source": [
    "from pinecone import Pinecone, ServerlessSpec\n",
    "import numpy as np\n",
    "import pandas as pd\n",
    "import torch\n",
    "import transformers\n",
    "from transformers import T5ForConditionalGeneration, T5Tokenizer, Trainer, TrainingArguments\n",
    "import evaluate\n",
    "from nltk.tokenize import sent_tokenize"
   ]
  },
  {
   "cell_type": "code",
   "execution_count": null,
   "metadata": {},
   "outputs": [],
   "source": [
    "# Fetch YouTube video transcripts\n",
    "def get_video_transcript(vid_id):\n",
    "    try:\n",
    "        transcript_data = YouTubeTranscriptApi.get_transcript(vid_id)\n",
    "        transcript_text = \" \".join([item['text'] for item in transcript_data if 'text' in item])\n",
    "        return transcript_text\n",
    "    except Exception as e:\n",
    "        print(f\"Error retrieving transcript for video {vid_id}: {e}\")\n",
    "        return None\n",
    "\n",
    "video_ids = ['2u4ItZerRac', 'I2zF1I60hPg', '8xqSF-uHCUs', 'LtmS-c1pChY', 'sJNxT-I7L6s']\n",
    "transcripts = {}\n",
    "\n",
    "for vid_id in video_ids:\n",
    "    trans = get_video_transcript(vid_id)\n",
    "    if trans:\n",
    "        transcripts[vid_id] = trans\n",
    "    else:\n",
    "        print(f\"No transcript available for video {vid_id}\")\n",
    "\n",
    "reference_summaries = {\n",
    "    '2u4ItZerRac': \"Living in Germany offers a strong economy and high quality of life. However, there are challenges like language barriers and integration issues.\",\n",
    "    'I2zF1I60hPg': \"Germany has a robust healthcare system and rich cultural experiences, but the cost of living is high.\",\n",
    "    '8xqSF-uHCUs': \"Germany provides efficient public services and strong social security, but finding housing can be difficult.\",\n",
    "    'LtmS-c1pChY': \"Germany's education system and work-life balance are excellent, but the tax system is complex.\",\n",
    "    'sJNxT-I7L6s': \"Germany's vibrant cities and safety are attractive, but cultural differences can be a challenge.\"\n",
    "}\n",
    "\n",
    "# Prepare the dataset\n",
    "dataset = [{\"transcript\": transcript, \"summary\": summary} for transcript, summary in zip(transcripts.values(), reference_summaries.values())]\n",
    "\n",
    "# Load the tokenizer and model\n",
    "model_name = \"t5-base\"\n",
    "tokenizer = T5Tokenizer.from_pretrained(model_name)\n",
    "model = T5ForConditionalGeneration.from_pretrained(model_name)\n",
    "\n",
    "# Tokenize the dataset\n",
    "def tokenize_function(examples):\n",
    "    model_inputs = tokenizer_small(\"summarize: \" + examples[\"transcript\"], max_length=512, truncation=True, padding=\"max_length\")\n",
    "    with tokenizer_small.as_target_tokenizer():\n",
    "        labels = tokenizer_small(examples[\"summary\"], max_length=128, truncation=True, padding=\"max_length\")\n",
    "    model_inputs[\"labels\"] = labels[\"input_ids\"]\n",
    "    return model_inputs\n",
    "\n",
    "# Apply the tokenization function to the dataset\n",
    "tokenized_dataset = list(map(tokenize_function, dataset))\n",
    "\n",
    "# Convert the tokenized dataset to a format compatible with the Trainer\n",
    "class SummarizationDataset(torch.utils.data.Dataset):\n",
    "    def __init__(self, tokenized_dataset):\n",
    "        self.tokenized_dataset = tokenized_dataset\n",
    "\n",
    "    def __len__(self):\n",
    "        return len(self.tokenized_dataset)\n",
    "\n",
    "    def __getitem__(self, idx):\n",
    "        return {key: torch.tensor(val) for key, val in self.tokenized_dataset[idx].items()}\n",
    "\n",
    "train_dataset = SummarizationDataset(tokenized_dataset)\n",
    "\n",
    "# Define the training arguments\n",
    "training_args = TrainingArguments(\n",
    "    output_dir='./results',\n",
    "    num_train_epochs=3,\n",
    "    per_device_train_batch_size=1,\n",
    "    per_device_eval_batch_size=1,\n",
    "    warmup_steps=500,\n",
    "    weight_decay=0.01,\n",
    "    logging_dir='./logs',\n",
    "    logging_steps=10,\n",
    ")\n",
    "\n",
    "# Initialize the Trainer\n",
    "trainer = Trainer(\n",
    "    model=model,\n",
    "    args=training_args,\n",
    "    train_dataset=train_dataset,\n",
    "    eval_dataset=train_dataset  # Using the same dataset for demonstration\n",
    ")\n",
    "\n",
    "# Fine-tune the model\n",
    "trainer.train()\n",
    "\n",
    "# Generate summaries for the transcripts\n",
    "def generate_summaries(texts_list, tokenizer, model, max_length=125):\n",
    "    summaries = []\n",
    "    for text in texts_list:\n",
    "        inputs = tokenizer(\"summarize: \" + text, return_tensors=\"pt\", max_length=512, truncation=True).input_ids\n",
    "        outputs = model.generate(inputs, max_length=max_length, num_beams=2, early_stopping=True)\n",
    "        summary = tokenizer.decode(outputs[0], skip_special_tokens=True)\n",
    "        summaries.append(summary)\n",
    "    return summaries\n",
    "\n",
    "generated_summaries = generate_summaries(list(transcripts.values()), tokenizer, model)\n",
    "\n",
    "# Load ROUGE\n",
    "rouge_score = evaluate.load(\"rouge\")\n",
    "\n",
    "# Define the compute_rouge_score function\n",
    "def compute_rouge_score(generated, reference):\n",
    "    generated_with_newlines = [\"\\n\".join(sent_tokenize(s.strip())) for s in generated]\n",
    "    reference_with_newlines = [\"\\n\".join(sent_tokenize(s.strip())) for s in reference]\n",
    "    return rouge_score.compute(predictions=generated_with_newlines, references=reference_with_newlines, use_stemmer=True)\n",
    "\n",
    "# Evaluate the generated summaries\n",
    "generated_summaries_dict = {video_id: summary for video_id, summary in zip(transcripts.keys(), generated_summaries)}\n",
    "new_rouge_scores = compute_rouge_score(list(generated_summaries_dict.values()), list(reference_summaries.values()))\n",
    "\n",
    "print(new_rouge_scores)"
   ]
  },
  {
   "cell_type": "code",
   "execution_count": null,
   "metadata": {},
   "outputs": [],
   "source": []
  },
  {
   "cell_type": "code",
   "execution_count": null,
   "metadata": {},
   "outputs": [],
   "source": []
  },
  {
   "cell_type": "code",
   "execution_count": null,
   "metadata": {},
   "outputs": [],
   "source": []
  },
  {
   "cell_type": "code",
   "execution_count": 20,
   "metadata": {},
   "outputs": [],
   "source": [
    "evaluation_data = [\n",
    "    {\"query\": \"what are the pros and cons of living in Germany?\", \"expected\": \"pros are you can have dual nationality and goverment benefits and so many other things\"},\n",
    "    {\"query\": \"what is the topic of the videos?\",\"expected\": \"pros and cons of living in germany\"},\n",
    "    {\"query\": \"can you tell me some facts about living in Germany?\", \"expected\": \"in germany the transport and health care is good\"},\n",
    "    {\"query\": \"can you summarize these facts in two short sentences\", \"expected\": \"good food,transport and healthcare \"},\n",
    "    {\"query\": \"can you explain what immigrants face in Germany?\", \"expected\": \"intigration, housing and employment\"},\n",
    "]"
   ]
  },
  {
   "cell_type": "code",
   "execution_count": 21,
   "metadata": {},
   "outputs": [
    {
     "name": "stdout",
     "output_type": "stream",
     "text": [
      "{'average_similarity': 0.10261588042797168, 'similarities': [0.06439024390243903, 0.1870967741935484, 0.08514851485148515, 0.1457286432160804, 0.030715225976305396]}\n"
     ]
    }
   ],
   "source": [
    "import difflib\n",
    "from sklearn.metrics import accuracy_score, precision_score, recall_score, f1_score\n",
    "\n",
    "def evaluate_model(model, data):\n",
    "    \"\"\"\n",
    "    Evaluate the model using the provided data.\n",
    "    \"\"\"\n",
    "    actual_responses = []\n",
    "    for item in data:\n",
    "        response = model.run(item[\"query\"])\n",
    "        actual_responses.append(response)\n",
    "\n",
    "    # Use difflib to get similarity ratio\n",
    "    similarities = []\n",
    "    for actual, expected in zip(actual_responses, [item[\"expected\"] for item in data]):\n",
    "        similarity = difflib.SequenceMatcher(None, actual, expected).ratio()\n",
    "        similarities.append(similarity)\n",
    "\n",
    "    average_similarity = sum(similarities) / len(similarities)\n",
    "    return {\"average_similarity\": average_similarity, \"similarities\": similarities}\n",
    "\n",
    "# Run evaluation\n",
    "metrics = evaluate_model(qa, evaluation_data)\n",
    "print(metrics)"
   ]
  }
 ],
 "metadata": {
  "kernelspec": {
   "display_name": "base",
   "language": "python",
   "name": "python3"
  },
  "language_info": {
   "codemirror_mode": {
    "name": "ipython",
    "version": 3
   },
   "file_extension": ".py",
   "mimetype": "text/x-python",
   "name": "python",
   "nbconvert_exporter": "python",
   "pygments_lexer": "ipython3",
   "version": "3.12.7"
  }
 },
 "nbformat": 4,
 "nbformat_minor": 2
}
